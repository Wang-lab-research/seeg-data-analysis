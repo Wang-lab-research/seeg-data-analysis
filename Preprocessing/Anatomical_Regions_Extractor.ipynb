{
 "cells": [
  {
   "cell_type": "code",
   "execution_count": 1,
   "id": "2768de1a-d15e-46b4-87c0-d3cb85d9a7b3",
   "metadata": {
    "tags": []
   },
   "outputs": [
    {
     "name": "stderr",
     "output_type": "stream",
     "text": [
      "/tmp/ipykernel_29444/2228984205.py:6: FutureWarning: Passing a negative integer is deprecated in version 1.0 and will not be supported in future version. Instead, use None to not limit the column width.\n",
      "  pd.set_option('display.max_colwidth', -1)\n"
     ]
    }
   ],
   "source": [
    "import pandas as pd\n",
    "import os\n",
    "pd.set_option('display.max_rows', None)\n",
    "pd.set_option('display.max_columns', None)\n",
    "pd.set_option('display.width', None)\n",
    "pd.set_option('display.max_colwidth', -1)"
   ]
  },
  {
   "cell_type": "code",
   "execution_count": 2,
   "id": "6ef89bc8-426c-47e2-abca-e093a22dccfb",
   "metadata": {
    "tags": []
   },
   "outputs": [],
   "source": [
    "# List of focus areas:\n",
    "# caudalanteriorcingulate\n",
    "# rostralanteriorcingulate\n",
    "# ctx-lh-insula \n",
    "# ctx-rh-insula \n",
    "# medialorbitofrontal\n",
    "# postcentral (S1)\n",
    "# superiorfrontal (PFC)\n",
    "# insula\n",
    "\n",
    "# Of interest areas:\n",
    "areas_of_interest = ['caudalanteriorcingulate','rostralanteriorcingulate','ctx-lh-insula','ctx-rh-insula','medialorbitofrontal','postcentral','superiorfrontal','insula']\n"
   ]
  },
  {
   "cell_type": "code",
   "execution_count": null,
   "id": "8815fe34-553c-4c16-9b2b-fb756f13eb45",
   "metadata": {
    "tags": []
   },
   "outputs": [],
   "source": []
  },
  {
   "cell_type": "code",
   "execution_count": 4,
   "id": "63406b22-1d04-4393-83f1-0245ba69bce8",
   "metadata": {
    "tags": []
   },
   "outputs": [],
   "source": [
    "def data_extractor(parent_data_dir):\n",
    "    files_extracted = []\n",
    "    for file in os.listdir(os.path.join(parent_data_dir, sub_id)):\n",
    "        if file.endswith('AnatomicalRegions.txt'):\n",
    "            files_extracted.append(file)\n",
    "            print(f\"Marking {file} for extraction\")\n",
    "        \n",
    "    return(files_extracted)\n",
    "            \n",
    "        "
   ]
  },
  {
   "cell_type": "code",
   "execution_count": 23,
   "id": "d0fa66fc-fdab-4f02-824d-ef64d06423ce",
   "metadata": {
    "tags": []
   },
   "outputs": [],
   "source": [
    "parent_data_dir = '../../../George Kenefati/Dan Friedman sEEG Data'\n",
    "\n",
    "sub_id = 'NY893'+'_elec' # Subject ID im the formate: NY### Only change the ID itself, unless folder naming convention changes"
   ]
  },
  {
   "cell_type": "code",
   "execution_count": 32,
   "id": "ff475df4-e2b9-48d1-b2c9-d847a20a90fa",
   "metadata": {},
   "outputs": [
    {
     "name": "stdout",
     "output_type": "stream",
     "text": [
      "Marking autoNY893_T1_depth_split_STG_MTG_AnatomicalRegions.txt for extraction\n",
      "Completed Dataframe creation for autoNY893_T1_depth_split_STG_MTG_AnatomicalRegions.txt\n"
     ]
    }
   ],
   "source": [
    "file_list = data_extractor(parent_data_dir)\n",
    "for i in range(0, len(file_list)):\n",
    "    file_name = str(file_list[i])\n",
    "    data_dir = os.path.join(parent_data_dir, sub_id, str(file_list[i]))\n",
    "    selected_df = pd.read_csv(os.path.join(data_dir), names = ['ID', 'X', 'Y', 'Z', 'Probability_1', 'Location_1', 'Probability_2', 'Location_2', 'Probability_3', 'Location_3'], sep = ' ', usecols = [0, 1, 2, 3, 4, 5, 6, 7, 8, 9])\n",
    "    selected_df = selected_df[selected_df.iloc[:, 0] != '%']        \n",
    "    selected_df = selected_df[(selected_df['Location_1'].isin(areas_of_interest)) | (selected_df['Location_2'].isin(areas_of_interest)) | (selected_df['Location_3'].isin(areas_of_interest))]\n",
    "    selected_df = selected_df.reset_index(drop = True)\n",
    "    print(f\"Completed Dataframe creation for {file_list[i]}\")\n",
    "    save_dir = os.path.join(parent_data_dir, f\"Processed Anatomical Regions Data/{file_name[:-4]}-Areas_of_Interest.csv\")\n",
    "    selected_df.to_csv(save_dir)\n",
    "        "
   ]
  },
  {
   "cell_type": "code",
   "execution_count": null,
   "id": "c6c68eca-8c6d-491a-9cbc-58165a21eeb9",
   "metadata": {},
   "outputs": [],
   "source": []
  }
 ],
 "metadata": {
  "kernelspec": {
   "display_name": "eegenv",
   "language": "python",
   "name": "eegenv"
  },
  "language_info": {
   "codemirror_mode": {
    "name": "ipython",
    "version": 3
   },
   "file_extension": ".py",
   "mimetype": "text/x-python",
   "name": "python",
   "nbconvert_exporter": "python",
   "pygments_lexer": "ipython3",
   "version": "3.9.16"
  }
 },
 "nbformat": 4,
 "nbformat_minor": 5
}
