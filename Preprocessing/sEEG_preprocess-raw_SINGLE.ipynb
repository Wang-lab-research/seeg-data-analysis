{
 "cells": [
  {
   "cell_type": "markdown",
   "id": "de2b9af6-5e16-4fcf-8d14-dd1790514ff2",
   "metadata": {
    "tags": []
   },
   "source": [
    "# Preprocess raw EDF data to filtered FIF format"
   ]
  },
  {
   "cell_type": "markdown",
   "id": "aa0c9471-77e3-4869-83bd-510bd47a3562",
   "metadata": {},
   "source": [
    "Define event names in a dictionary"
   ]
  },
  {
   "cell_type": "code",
   "execution_count": 1,
   "id": "bff087f4",
   "metadata": {
    "tags": []
   },
   "outputs": [],
   "source": [
    "import sys\n",
    "import os\n",
    "import numpy as np\n",
    "import mne\n",
    "import matplotlib.pyplot as plt\n",
    "\n",
    "from mne.preprocessing import ICA\n",
    "from pyprep.find_noisy_channels import NoisyChannels\n",
    "\n",
    "from IPython import display\n",
    "\n",
    "import eeglabio"
   ]
  },
  {
   "cell_type": "markdown",
   "id": "755165ef-88e5-48af-a904-12fd33e9c65d",
   "metadata": {},
   "source": [
    "Find EDF file based on subject number and load using MNE"
   ]
  },
  {
   "cell_type": "code",
   "execution_count": 2,
   "id": "bb67bda3-66d1-434b-9e59-b85c00b6d250",
   "metadata": {},
   "outputs": [],
   "source": [
    "parent_data_path = f\"../../../George Kenefati/Dan Friedman sEEG Data/\"\n",
    "save_path = f\"../../../George Kenefati/Dan Friedman sEEG Data/Processed FIF Data/\" # TODO: create this folder first"
   ]
  },
  {
   "cell_type": "code",
   "execution_count": 3,
   "id": "99e5d0f9-0944-44fa-8612-f4ca3a9a543b",
   "metadata": {},
   "outputs": [],
   "source": [
    "sub_num = '' # Set this at the start for each subject name"
   ]
  },
  {
   "cell_type": "code",
   "execution_count": 5,
   "id": "dd571513-5eac-4be2-8e19-2e619f900244",
   "metadata": {
    "tags": []
   },
   "outputs": [
    {
     "ename": "FileNotFoundError",
     "evalue": "[Errno 2] No such file or directory: '../../../George Kenefati/Dan Friedman sEEG Data/'",
     "output_type": "error",
     "traceback": [
      "\u001b[0;31m---------------------------------------------------------------------------\u001b[0m",
      "\u001b[0;31mFileNotFoundError\u001b[0m                         Traceback (most recent call last)",
      "Cell \u001b[0;32mIn[5], line 2\u001b[0m\n\u001b[1;32m      1\u001b[0m sub_id\u001b[38;5;241m=\u001b[39m\u001b[38;5;124m'\u001b[39m\u001b[38;5;124m'\u001b[39m; acq_id\u001b[38;5;241m=\u001b[39m\u001b[38;5;124m'\u001b[39m\u001b[38;5;124m'\u001b[39m\n\u001b[0;32m----> 2\u001b[0m \u001b[38;5;28;01mfor\u001b[39;00m folder \u001b[38;5;129;01min\u001b[39;00m \u001b[43mos\u001b[49m\u001b[38;5;241;43m.\u001b[39;49m\u001b[43mlistdir\u001b[49m\u001b[43m(\u001b[49m\u001b[43mparent_data_path\u001b[49m\u001b[43m)\u001b[49m:\n\u001b[1;32m      3\u001b[0m     save_fname_fif \u001b[38;5;241m=\u001b[39m folder \u001b[38;5;241m+\u001b[39m \u001b[38;5;124m'\u001b[39m\u001b[38;5;124m_preprocessed-raw.fif\u001b[39m\u001b[38;5;124m'\u001b[39m\n\u001b[1;32m      4\u001b[0m     \u001b[38;5;28;01mif\u001b[39;00m folder\u001b[38;5;241m.\u001b[39mstartswith(sub_num) \u001b[38;5;129;01mand\u001b[39;00m (save_fname_fif \u001b[38;5;129;01mnot\u001b[39;00m \u001b[38;5;129;01min\u001b[39;00m os\u001b[38;5;241m.\u001b[39mlistdir(save_path)):\n",
      "\u001b[0;31mFileNotFoundError\u001b[0m: [Errno 2] No such file or directory: '../../../George Kenefati/Dan Friedman sEEG Data/'"
     ]
    }
   ],
   "source": [
    "sub_id=''; acq_id=''\n",
    "for folder in os.listdir(parent_data_path):\n",
    "    save_fname_fif = folder + '_preprocessed-raw.fif'\n",
    "    if folder.startswith(sub_num) and (save_fname_fif not in os.listdir(save_path)):\n",
    "        sub_id = folder\n",
    "        print(sub_id)\n",
    "        print(save_fname_fif)\n",
    "\n",
    "for subfile in os.listdir(os.path.join(data_dir,sub_id)):\n",
    "    if subfile.endswith(\".edf\"):\n",
    "        acq_id = subfile;\n",
    "\n",
    "# read data\n",
    "print(f\"{sub_id}\\nreading raw file...\")\n",
    "raw_fname = os.path.join(data_dir,sub_id,acq_id)\n",
    "\n",
    "raw = mne.io.read_raw_edf(raw_fname, preload=True)\n",
    "\n",
    "display.clear_output(wait=True)\n",
    "\n",
    "# high level inspection\n",
    "print(raw.ch_names)\n",
    "print(len(raw.ch_names))\n",
    "\n",
    "# apply notch filter\n",
    "print(f\"{sub_id}\\napplying notch filter...\")\n",
    "raw = raw.notch_filter(60., notch_widths=10)\n",
    "display.clear_output(wait=True)\n",
    "\n",
    "# apply bandpass filter\n",
    "print(f\"{sub_id}\\napplying bandpass filter...\")\n",
    "raw = raw.filter(l_freq=1., h_freq=500.)\n",
    "display.clear_output(wait=True)\n",
    "\n",
    "# find bad channels automatically\n",
    "print(f\"{sub_id}\\nremoving bad channels...\")\n",
    "raw_pyprep = NoisyChannels(raw, random_state=42)\n",
    "raw_pyprep.find_all_bads(ransac=True, channel_wise=False, max_chunk_size=None)\n",
    "raw.info['bads'] = raw_pyprep.get_bads()\n",
    "display.clear_output(wait=True)\n",
    "\n",
    "# save copy of data\n",
    "print(f\"Saving processed data as '{save_fname_fif}'...\")\n",
    "\n",
    "# high level inspection\n",
    "print(raw.ch_names)\n",
    "print('\\nNumber of remaining channels: ',len(raw.ch_names) - len(raw.info['bads']))\n",
    "print('\\nDropped channels: ',raw.info['bads'])\n",
    "\n",
    "print(\"Raw data preprocessing complete.\")"
   ]
  },
  {
   "cell_type": "code",
   "execution_count": null,
   "id": "60ef7a2e-9846-4233-a9e3-ae629d89e84b",
   "metadata": {},
   "outputs": [],
   "source": []
  }
 ],
 "metadata": {
  "kernelspec": {
   "display_name": "eegenv",
   "language": "python",
   "name": "eegenv"
  },
  "language_info": {
   "codemirror_mode": {
    "name": "ipython",
    "version": 3
   },
   "file_extension": ".py",
   "mimetype": "text/x-python",
   "name": "python",
   "nbconvert_exporter": "python",
   "pygments_lexer": "ipython3",
   "version": "3.9.16"
  }
 },
 "nbformat": 4,
 "nbformat_minor": 5
}
