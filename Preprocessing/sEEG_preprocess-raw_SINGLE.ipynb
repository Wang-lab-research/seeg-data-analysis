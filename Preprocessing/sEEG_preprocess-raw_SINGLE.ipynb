{
 "cells": [
  {
   "cell_type": "markdown",
   "id": "a060e057",
   "metadata": {
    "tags": []
   },
   "source": [
    "# Preprocess raw EDF data to filtered FIF format"
   ]
  },
  {
   "cell_type": "markdown",
   "id": "68078db4",
   "metadata": {},
   "source": [
    "Define event names in a dictionary"
   ]
  },
  {
   "cell_type": "code",
   "execution_count": 3,
   "id": "3fa3832d",
   "metadata": {
    "tags": []
   },
   "outputs": [],
   "source": [
    "import sys\n",
    "import os\n",
    "import numpy as np\n",
    "import mne\n",
    "import matplotlib.pyplot as plt\n",
    "\n",
    "from mne.preprocessing import ICA\n",
    "from pyprep.find_noisy_channels import NoisyChannels\n",
    "\n",
    "from IPython import display\n",
    "\n",
    "import eeglabio"
   ]
  },
  {
   "cell_type": "markdown",
   "id": "55c87809",
   "metadata": {},
   "source": [
    "Find EDF file based on subject number and load using MNE"
   ]
  },
  {
   "cell_type": "code",
   "execution_count": 4,
   "id": "e0d552cf",
   "metadata": {
    "tags": []
   },
   "outputs": [],
   "source": [
    "parent_data_path = f\"../../../George Kenefati/Dan Friedman sEEG Data/\"\n",
    "save_path = f\"../../../George Kenefati/Dan Friedman sEEG Data/Processed FIF Data/\" "
   ]
  },
  {
   "cell_type": "code",
   "execution_count": 5,
   "id": "8d767eec",
   "metadata": {
    "tags": []
   },
   "outputs": [],
   "source": [
    "def state_and_subfile_creator(day_id):\n",
    "    day_and_state = []\n",
    "    for state in os.listdir(os.path.join(parent_data_path, sub_id, day_id)):\n",
    "        if state.startswith(sub_state):\n",
    "            state_id = sub_state;\n",
    "        \n",
    "    for subfile in os.listdir(os.path.join(parent_data_path,sub_id, day_id, state_id)):\n",
    "        if subfile.endswith(\".EDF\"):\n",
    "            acq_id = subfile;\n",
    "            day_and_state.append(acq_id)\n",
    "    day_and_state.append(state_id)\n",
    "    print(day_and_state)\n",
    "    return(day_and_state)\n",
    "\n",
    "\n",
    "\n",
    "def preprocessing_function(state_id, file_name):\n",
    "    print(f\"{sub_id}\\nreading raw file...\")\n",
    "    raw_fname = os.path.join(parent_data_path,sub_id, day_id, state_id, file_name)\n",
    "\n",
    "    raw = mne.io.read_raw_edf(raw_fname, preload=True)\n",
    "\n",
    "    display.clear_output(wait=True)\n",
    "\n",
    "    # high level inspection\n",
    "    print(raw.ch_names)\n",
    "    print(len(raw.ch_names))\n",
    "\n",
    "    # apply notch filter\n",
    "    print(f\"{sub_id}\\napplying notch filter...\")\n",
    "    raw = raw.notch_filter(60., notch_widths=10)\n",
    "    display.clear_output(wait=True)\n",
    "\n",
    "    # apply bandpass filter\n",
    "    print(f\"{sub_id}\\napplying bandpass filter...\")\n",
    "    if file_name.endswith(\"512.EDF\"):\n",
    "        h_freq_value = 100.\n",
    "    else:\n",
    "        h_freq_value = 500.\n",
    "    raw = raw.filter(l_freq=1., h_freq = h_freq_value)\n",
    "    display.clear_output(wait=True)\n",
    "\n",
    "    # find bad channels automatically\n",
    "    # print(f\"{sub_id}\\nremoving bad channels...\")\n",
    "    # raw_pyprep = NoisyChannels(raw, random_state=42)\n",
    "    # raw_pyprep.find_all_bads(ransac=False, channel_wise=False, max_chunk_size=None)\n",
    "    # raw.info['bads'] = raw_pyprep.get_bads()\n",
    "    # display.clear_output(wait=True)\n",
    "\n",
    "    # save copy of data\n",
    "    save_fname_fif = f\"{sub_num}_{day_list[i]}_{file_name[:-4]}-raw.fif\"\n",
    "    print(f\"Saving processed data as '{save_fname_fif}'...\")\n",
    "    raw.save(save_path+save_fname_fif,\n",
    "             verbose=True, overwrite=True)\n",
    "\n",
    "    # high level inspection\n",
    "    print(raw.ch_names)"
   ]
  },
  {
   "cell_type": "code",
   "execution_count": 6,
   "id": "6109f5bd-8a7c-4896-a835-a35a1eb6553c",
   "metadata": {
    "tags": []
   },
   "outputs": [],
   "source": [
    "# Subjects: [NY - 846, 853, 865, 870, 871, 872, 878, 884, 888, 893]"
   ]
  },
  {
   "cell_type": "code",
   "execution_count": 79,
   "id": "d0cb3d7f",
   "metadata": {
    "tags": []
   },
   "outputs": [],
   "source": [
    "sub_num = 'NY893' # Set this at the start for each subject name\n",
    "sub_state = 'Awake2'  #Set this to Asleep1 / Asleep2 / Awake1 / Awake2"
   ]
  },
  {
   "cell_type": "code",
   "execution_count": 80,
   "id": "fead0a54",
   "metadata": {
    "tags": []
   },
   "outputs": [
    {
     "name": "stdout",
     "output_type": "stream",
     "text": [
      "Saving processed data as 'NY893_Day 9_Awake2_512-raw.fif'...\n",
      "Writing /media/sb10flpc002/08e63286-43ce-4f61-9491-1ed048c96f20/Baldwin Chen/seeg-data-analysis/Preprocessing/../../../George Kenefati/Dan Friedman sEEG Data/Processed FIF Data/NY893_Day 9_Awake2_512-raw.fif\n",
      "Closing /media/sb10flpc002/08e63286-43ce-4f61-9491-1ed048c96f20/Baldwin Chen/seeg-data-analysis/Preprocessing/../../../George Kenefati/Dan Friedman sEEG Data/Processed FIF Data/NY893_Day 9_Awake2_512-raw.fif\n",
      "[done]\n",
      "['LA1', 'LA2', 'LA3', 'LA4', 'LA5', 'LA6', 'LA7', 'LA8', 'LA9', 'LA10', 'LA11', 'LA12', 'LAHC1', 'LAHC2', 'LAHC3', 'LAHC4', 'LAHC5', 'LAHC6', 'LAHC7', 'LAHC8', 'LAHC9', 'LAHC10', 'LAHC11', 'LAHC12', 'LPCH1', 'LPCH2', 'LPCH3', 'LPCH4', 'LPCH5', 'LPCH6', 'LPCH7', 'LPCH8', 'LPCH9', 'LPCH10', 'LPCH11', 'LPCH12', 'LAG1', 'LAG2', 'LAG3', 'LAG4', 'LAG5', 'LAG6', 'LAG7', 'LAG8', 'LIPH1', 'LIPH2', 'LIPH3', 'LIPH4', 'LIPH5', 'LIPH6', 'LIPH7', 'LIPH8', 'LIPH9', 'LIPH10', 'LIPH11', 'LIPH12', 'LTP1', 'LTP2', 'LTP3', 'LTP4', 'LTP5', 'LTP6', 'LTP7', 'LTP8', 'LTP9', 'LTP10', 'LTP11', 'LTP12', 'LAI1', 'LAI2', 'LAI3', 'LAI4', 'LAI5', 'LAI6', 'LAI7', 'LAI8', 'LAI9', 'LAI10', 'LAI11', 'LAI12', 'LAI13', 'LAI14', 'LPA1', 'LPA2', 'LPA3', 'LPA4', 'LPA5', 'LPA6', 'LPA7', 'LPA8', 'LPA9', 'LPA10', 'LPA11', 'LPA12', 'LPA13', 'LPA14', 'LPA15', 'LPA16', 'RA1', 'RA2', 'RA3', 'RA4', 'RA5', 'RA6', 'RA7', 'RA8', 'RA9', 'RA10', 'RA11', 'RA12', 'RAHC1', 'RAHC2', 'RAHC3', 'RAHC4', 'RAHC5', 'RAHC6', 'RAHC7', 'RAHC8', 'RAHC9', 'RAHC10', 'RAHC11', 'RAHC12', 'RPHC1', 'RPHC2', 'RPHC3', 'RPHC4', 'RPHC5', 'RPHC6', 'RPHC7', 'RPHC8', 'RPHC9', 'RPHC10', 'RPHC11', 'RPHC12', 'LOF1', 'LOF2', 'LOF3', 'LOF4', 'LOF5', 'LOF6', 'LOF7', 'LOF8', 'LOF9', 'LOF10', 'LOF11', 'LOF12', 'LOF13', 'LOF14', 'EKGL', 'EKGR', 'DC1', 'DC2', 'DC3', 'DC4', 'DC5']\n"
     ]
    }
   ],
   "source": [
    "sub_id=''; acq_id=''\n",
    "for folder in os.listdir(parent_data_path):   \n",
    "    if folder.endswith(sub_num):\n",
    "        sub_id = folder\n",
    "        print(sub_id)\n",
    "        \n",
    "day_list = []        \n",
    "for days in os.listdir(os.path.join(parent_data_path,sub_id)):\n",
    "    if days.startswith(\"Day\"):\n",
    "        day_list.append(str(days))\n",
    "\n",
    "        \n",
    "for i in range(0, len(day_list)):\n",
    "    complete_info = state_and_subfile_creator(day_list[i])\n",
    "    day_id = day_list[i]\n",
    "    for z in range(0, 2):\n",
    "        preprocessing_function(complete_info[-1], complete_info[z])"
   ]
  },
  {
   "cell_type": "code",
   "execution_count": null,
   "id": "4719754e",
   "metadata": {
    "tags": []
   },
   "outputs": [],
   "source": []
  },
  {
   "cell_type": "code",
   "execution_count": null,
   "id": "dc174e6f",
   "metadata": {},
   "outputs": [],
   "source": []
  }
 ],
 "metadata": {
  "kernelspec": {
   "display_name": "eegenv",
   "language": "python",
   "name": "eegenv"
  },
  "language_info": {
   "codemirror_mode": {
    "name": "ipython",
    "version": 3
   },
   "file_extension": ".py",
   "mimetype": "text/x-python",
   "name": "python",
   "nbconvert_exporter": "python",
   "pygments_lexer": "ipython3",
   "version": "3.9.16"
  }
 },
 "nbformat": 4,
 "nbformat_minor": 5
}
