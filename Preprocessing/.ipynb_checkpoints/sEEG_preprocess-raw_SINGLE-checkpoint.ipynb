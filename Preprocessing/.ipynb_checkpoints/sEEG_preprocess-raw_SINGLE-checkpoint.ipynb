{
 "cells": [
  {
   "cell_type": "markdown",
   "id": "de2b9af6-5e16-4fcf-8d14-dd1790514ff2",
   "metadata": {
    "tags": []
   },
   "source": [
    "# Preprocess raw EDF data to filtered FIF format"
   ]
  },
  {
   "cell_type": "markdown",
   "id": "aa0c9471-77e3-4869-83bd-510bd47a3562",
   "metadata": {},
   "source": [
    "Define event names in a dictionary"
   ]
  },
  {
   "cell_type": "code",
   "execution_count": 1,
   "id": "bff087f4",
   "metadata": {
    "tags": []
   },
   "outputs": [],
   "source": [
    "import sys\n",
    "import os\n",
    "import numpy as np\n",
    "import mne\n",
    "import matplotlib.pyplot as plt\n",
    "\n",
    "from mne.preprocessing import ICA\n",
    "from pyprep.find_noisy_channels import NoisyChannels\n",
    "\n",
    "from IPython import display\n",
    "\n",
    "import eeglabio"
   ]
  },
  {
   "cell_type": "markdown",
   "id": "755165ef-88e5-48af-a904-12fd33e9c65d",
   "metadata": {},
   "source": [
    "Find EDF file based on subject number and load using MNE"
   ]
  },
  {
   "cell_type": "code",
   "execution_count": 2,
   "id": "bb67bda3-66d1-434b-9e59-b85c00b6d250",
   "metadata": {
    "tags": []
   },
   "outputs": [],
   "source": [
    "parent_data_path = f\"../../../George Kenefati/Dan Friedman sEEG Data/\"\n",
    "save_path = f\"../../../George Kenefati/Dan Friedman sEEG Data/Processed FIF Data/\" "
   ]
  },
  {
   "cell_type": "code",
   "execution_count": 18,
   "id": "568072b0-7bda-410e-b97f-d30b6ebe426e",
   "metadata": {
    "tags": []
   },
   "outputs": [],
   "source": [
    "def state_and_subfile_creator(day_id):\n",
    "    day_and_state = []\n",
    "    for state in os.listdir(os.path.join(parent_data_path, sub_id, day_id)):\n",
    "        if state.startswith(sub_state):\n",
    "            state_id = sub_state;\n",
    "        \n",
    "    for subfile in os.listdir(os.path.join(parent_data_path,sub_id, day_id, state_id)):\n",
    "        if subfile.endswith(\".EDF\"):\n",
    "            acq_id = subfile;\n",
    "            day_and_state.append(acq_id)\n",
    "    day_and_state.append(state_id)\n",
    "    print(day_and_state)\n",
    "    return(day_and_state)\n",
    "\n",
    "\n",
    "\n",
    "def preprocessing_function(state_id, file_name):\n",
    "    print(f\"{sub_id}\\nreading raw file...\")\n",
    "    raw_fname = os.path.join(parent_data_path,sub_id, day_id, state_id, file_name)\n",
    "\n",
    "    raw = mne.io.read_raw_edf(raw_fname, preload=True)\n",
    "\n",
    "    display.clear_output(wait=True)\n",
    "\n",
    "    # high level inspection\n",
    "    print(raw.ch_names)\n",
    "    print(len(raw.ch_names))\n",
    "\n",
    "    # apply notch filter\n",
    "    print(f\"{sub_id}\\napplying notch filter...\")\n",
    "    raw = raw.notch_filter(60., notch_widths=10)\n",
    "    display.clear_output(wait=True)\n",
    "\n",
    "    # apply bandpass filter\n",
    "    print(f\"{sub_id}\\napplying bandpass filter...\")\n",
    "    if file_name.endswith(\"512.EDF\"):\n",
    "        h_freq_value = 100.\n",
    "    else:\n",
    "        h_freq_value = 500.\n",
    "    raw = raw.filter(l_freq=1., h_freq = h_freq_value)\n",
    "    display.clear_output(wait=True)\n",
    "\n",
    "    # find bad channels automatically\n",
    "    # print(f\"{sub_id}\\nremoving bad channels...\")\n",
    "    # raw_pyprep = NoisyChannels(raw, random_state=42)\n",
    "    # raw_pyprep.find_all_bads(ransac=False, channel_wise=False, max_chunk_size=None)\n",
    "    # raw.info['bads'] = raw_pyprep.get_bads()\n",
    "    # display.clear_output(wait=True)\n",
    "\n",
    "    # save copy of data\n",
    "    save_fname_fif = f\"{sub_num}_{day_list[i]}_{file_name[:-4]}.fif\"\n",
    "    print(f\"Saving processed data as '{save_fname_fif}'...\")\n",
    "    raw.save(save_path+save_fname_fif,\n",
    "             verbose=True, overwrite=True)\n",
    "\n",
    "    # high level inspection\n",
    "    print(raw.ch_names)"
   ]
  },
  {
   "cell_type": "code",
   "execution_count": 30,
   "id": "99e5d0f9-0944-44fa-8612-f4ca3a9a543b",
   "metadata": {
    "tags": []
   },
   "outputs": [],
   "source": [
    "sub_num = 'NY884' # Set this at the start for each subject name\n",
    "sub_state = 'Asleep1' # Set this to Asleep1 / Asleep2 or Awake1 / Awake2"
   ]
  },
  {
   "cell_type": "code",
   "execution_count": 29,
   "id": "dd571513-5eac-4be2-8e19-2e619f900244",
   "metadata": {
    "tags": []
   },
   "outputs": [
    {
     "name": "stdout",
     "output_type": "stream",
     "text": [
      "Saving processed data as 'NY878_Day 8_Awake2_512.fif'...\n",
      "Writing /media/sb10flpc002/08e63286-43ce-4f61-9491-1ed048c96f20/Baldwin Chen/seeg-data-analysis/Preprocessing/../../../George Kenefati/Dan Friedman sEEG Data/Processed FIF Data/NY878_Day 8_Awake2_512.fif\n"
     ]
    },
    {
     "name": "stderr",
     "output_type": "stream",
     "text": [
      "/tmp/ipykernel_23254/4151078589.py:53: RuntimeWarning: This filename (/media/sb10flpc002/08e63286-43ce-4f61-9491-1ed048c96f20/Baldwin Chen/seeg-data-analysis/Preprocessing/../../../George Kenefati/Dan Friedman sEEG Data/Processed FIF Data/NY878_Day 8_Awake2_512.fif) does not conform to MNE naming conventions. All raw files should end with raw.fif, raw_sss.fif, raw_tsss.fif, _meg.fif, _eeg.fif, _ieeg.fif, raw.fif.gz, raw_sss.fif.gz, raw_tsss.fif.gz, _meg.fif.gz, _eeg.fif.gz or _ieeg.fif.gz\n",
      "  raw.save(save_path+save_fname_fif,\n"
     ]
    },
    {
     "name": "stdout",
     "output_type": "stream",
     "text": [
      "Closing /media/sb10flpc002/08e63286-43ce-4f61-9491-1ed048c96f20/Baldwin Chen/seeg-data-analysis/Preprocessing/../../../George Kenefati/Dan Friedman sEEG Data/Processed FIF Data/NY878_Day 8_Awake2_512.fif\n",
      "[done]\n",
      "['LFP1', 'LFP2', 'LFP3', 'LFP4', 'LFP5', 'LFP6', 'LFP7', 'LFP8', 'LFP9', 'LFP10', 'LFAC1', 'LFAC2', 'LFAC3', 'LFAC4', 'LFAC5', 'LFAC6', 'LFAC7', 'LFAC8', 'LFAC9', 'LFAC10', 'LFAC11', 'LFAC12', 'LFSG1', 'LFSG2', 'LFSG3', 'LFSG4', 'LFSG5', 'LFSG6', 'LFSG7', 'LFSG8', 'LFSG9', 'LFSG10', 'LFSG11', 'LFSG12', 'LA1', 'LA2', 'LA3', 'LA4', 'LA5', 'LA6', 'LA7', 'LA8', 'LAHC1', 'LAHC2', 'LAHC3', 'LAHC4', 'LAHC5', 'LAHC6', 'LAHC7', 'LAHC8', 'LPHC1', 'LPHC2', 'LPHC3', 'LPHC4', 'LPHC5', 'LPHC6', 'LPHC7', 'LPHC8', 'LTP 1', 'LTP 2', 'LTP 3', 'LTP 4', 'LTP 5', 'LTP 6', 'LFF1', 'LFF2', 'LFF3', 'LFF4', 'LFF5', 'LFF6', 'LFF7', 'LFF8', 'LIAI1', 'LIAI2', 'LIAI3', 'LIAI4', 'LIAI5', 'LIAI6', 'LIAI7', 'LIAI8', 'LIAI9', 'LIAI10', 'LAI1', 'LAI2', 'LAI3', 'LAI4', 'LAI5', 'LAI6', 'LAI7', 'LAI8', 'LAI9', 'LAI10', 'LAI11', 'LAI12', 'LOF1', 'LOF2', 'LOF3', 'LOF4', 'LOF5', 'LOF6', 'LOF7', 'LOF8', 'LOF9', 'LOF10', 'LOF11', 'LOF12', 'LSTG1', 'LSTG2', 'LSTG3', 'LSTG4', 'LSTG5', 'LSTG6', 'LSTG7', 'LSTG8', 'RFP1', 'RFP2', 'RFP3', 'RFP4', 'RFP5', 'RFP6', 'RFP7', 'RFP8', 'RFP9', 'RFP10', 'RFAC1', 'RFAC2', 'RFAC3', 'RFAC4', 'RFAC5', 'RFAC6', 'RA1', 'RA2', 'RA3', 'RA4', 'RA5', 'RA6', 'RA7', 'RA8', 'RTP1', 'RTP2', 'RTP3', 'RTP4', 'RTP5', 'RTP6', 'RHC1', 'RHC2', 'RHC3', 'RHC4', 'RHC5', 'RHC6', 'RHC7', 'RHC8', 'RAI1', 'RAI2', 'RAI3', 'RAI4', 'RAI5', 'RAI6', 'RAI7', 'RAI8', 'RAI9', 'RAI10', 'ROF1', 'ROF2', 'ROF3', 'ROF4', 'ROF5', 'ROF6', 'ROF7', 'ROF8', 'ROF9', 'ROF10', 'EKG 1', 'EKG 2', 'DC1', 'DC2', 'DC3', 'DC4', 'DC5']\n"
     ]
    }
   ],
   "source": [
    "sub_id=''; acq_id=''\n",
    "for folder in os.listdir(parent_data_path):   \n",
    "    if folder.endswith(sub_num):\n",
    "        sub_id = folder\n",
    "        print(sub_id)\n",
    "        \n",
    "day_list = []        \n",
    "for days in os.listdir(os.path.join(parent_data_path,sub_id)):\n",
    "    if days.startswith(\"Day\"):\n",
    "        day_list.append(str(days))\n",
    "\n",
    "        \n",
    "for i in range(0, len(day_list)):\n",
    "    complete_info = state_and_subfile_creator(day_list[i])\n",
    "    day_id = day_list[i]\n",
    "    for z in range(0, 2):\n",
    "        preprocessing_function(complete_info[-1], complete_info[z])"
   ]
  },
  {
   "cell_type": "code",
   "execution_count": null,
   "id": "3729590b-6283-4cf4-bdec-048c1c5c6e1d",
   "metadata": {
    "tags": []
   },
   "outputs": [],
   "source": []
  },
  {
   "cell_type": "code",
   "execution_count": null,
   "id": "7c7a39eb-411a-42e7-a1b8-2ea2d28d2d31",
   "metadata": {},
   "outputs": [],
   "source": []
  }
 ],
 "metadata": {
  "kernelspec": {
   "display_name": "eegenv",
   "language": "python",
   "name": "eegenv"
  },
  "language_info": {
   "codemirror_mode": {
    "name": "ipython",
    "version": 3
   },
   "file_extension": ".py",
   "mimetype": "text/x-python",
   "name": "python",
   "nbconvert_exporter": "python",
   "pygments_lexer": "ipython3",
   "version": "3.9.16"
  }
 },
 "nbformat": 4,
 "nbformat_minor": 5
}
