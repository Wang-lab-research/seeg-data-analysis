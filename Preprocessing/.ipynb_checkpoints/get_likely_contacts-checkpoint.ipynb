{
 "cells": [
  {
   "cell_type": "code",
   "execution_count": 7,
   "id": "2768de1a-d15e-46b4-87c0-d3cb85d9a7b3",
   "metadata": {
    "tags": []
   },
   "outputs": [],
   "source": [
    "import pandas as pd\n",
    "import os\n",
    "pd.set_option('display.max_rows', None)\n",
    "pd.set_option('display.max_columns', None)\n",
    "pd.set_option('display.width', None)\n",
    "from glob import glob  \n",
    "from pathlib import Path  \n",
    "import copy"
   ]
  },
  {
   "cell_type": "code",
   "execution_count": 10,
   "id": "4b2954a8-be3c-480a-87c0-8dc134b4ea90",
   "metadata": {},
   "outputs": [],
   "source": [
    "roi_dict = {\n",
    "            'caudalanteriorcingulate': [], #dACC\n",
    "            'ctx-lh-caudalanteriorcingulate': [], \n",
    "            'ctx-rh-caudalanteriorcingulate': [],\n",
    "            'rostralanteriorcingulate': [], #rACC\n",
    "            'ctx-lh-rostralanteriorcingulate': [],\n",
    "            'ctx-rh-rostralanteriorcingulate': [],\n",
    "            'insula':[], #insula\n",
    "            'ctx-lh-insula': [],\n",
    "            'ctx-rh-insula': [],\n",
    "            'medialorbitofrontal': [], #mOFC\n",
    "            'ctx-lh-medialorbitofrontal': [],\n",
    "            'ctx-rh-medialorbitofrontal': [],\n",
    "            'postcentral': [], #S1\n",
    "            'ctx-lh-postcentral': [],\n",
    "            'ctx-rh-postcentral': [],\n",
    "            'superiorfrontal': [], #dlPFC\n",
    "            'ctx-lh-superiorfrontal': [],\n",
    "            'ctx-rh-superiorfrontal': [],\n",
    "           }\n",
    "\n",
    "def find_files(path, suffix):    \n",
    "    files_found = [f for f in glob(f\"{path}/**/*{suffix}\", recursive=True)]  \n",
    "    files_found_sorted = sorted(files_found, key=lambda x: x[x.index('NY'):])  \n",
    "    return [Path(el) for el in files_found_sorted]\n",
    "\n",
    "def get_likely_contacts(anat_file_path, roi_dict, min_probability):    \n",
    "    roi_dict_tmp = {roi: [] for roi in roi_dict}  \n",
    "    \n",
    "    with anat_file_path.open() as f:  \n",
    "        try: \n",
    "            prob_loc_cols = ['Probability_1', 'Location_1',\n",
    "                             'Probability_2', 'Location_2',\n",
    "                             'Probability_3', 'Location_3',\n",
    "                             'Probability_4', 'Location_4',]  \n",
    "            names = ['Contact', 'X', 'Y', 'Z'] + prob_loc_cols  \n",
    "            df = pd.read_csv(f, names=names, sep=' ', usecols=range(12), header=None)  \n",
    "        except pd.errors.ParserError:  \n",
    "            prob_loc_cols = ['Probability_1', 'Location_1',\n",
    "                             'Probability_2', 'Location_2',\n",
    "                             'Probability_3', 'Location_3',]\n",
    "            names = ['Contact', 'X', 'Y', 'Z'] + prob_loc_cols  \n",
    "            df = pd.read_csv(f, names=names, sep=' ', usecols=range(10), header=None)  \n",
    "    df = df[df.Contact != '%'] \n",
    "\n",
    "    for _, row in df.iterrows():    \n",
    "        for prob, loc in zip(prob_loc_cols[::2], prob_loc_cols[1::2]):  \n",
    "            if row[loc] in roi_dict and float(row[prob].replace('%', '')) > min_probability:    \n",
    "                roi_dict_tmp[row[loc]].append((row['Contact'],row[prob]))    \n",
    "    return roi_dict_tmp   \n",
    "\n",
    "def save_to_excel(base_name, roi_dict_tmp, df, i, save_path):  \n",
    "    df.loc[i,'file_name'] = base_name\n",
    "    for key, values in roi_dict_tmp.items():  \n",
    "        sorted_values = sorted(values, key=lambda x: float(x[1].strip('%')), reverse=True)  \n",
    "        value_strs = [', '.join(map(str, t)) for t in sorted_values]  \n",
    "        df.loc[i, key] = ', '.join(value_strs)  \n",
    "        \n",
    "    df.to_excel(save_path, index=False)  \n",
    "\n",
    "    return df"
   ]
  },
  {
   "cell_type": "code",
   "execution_count": null,
   "id": "d0fa66fc-fdab-4f02-824d-ef64d06423ce",
   "metadata": {
    "tags": []
   },
   "outputs": [],
   "source": [
    "# Set paths/filenames\n",
    "parent_data_path = '../../../Data/'\n",
    "save_path = './electrode_coverage.xlsx'"
   ]
  },
  {
   "cell_type": "code",
   "execution_count": null,
   "id": "a3496407-1bc7-4715-a748-91d808d0aa6f",
   "metadata": {
    "scrolled": true
   },
   "outputs": [],
   "source": [
    "# Find all anatomical region txt files in Data folder\n",
    "anat_file_paths = find_files(parent_data_path, 'AnatomicalRegions.txt')\n",
    "# anat_file_paths"
   ]
  },
  {
   "cell_type": "code",
   "execution_count": null,
   "id": "68f40285-e8ef-43a6-90b8-4ee58fcb9a44",
   "metadata": {},
   "outputs": [],
   "source": [
    "# Create a DataFrame within which to save the contact names and ROI in the loop\n",
    "df_cols = {**{'file_name':[]}, **roi_dict}\n",
    "df = pd.DataFrame(df_cols)  "
   ]
  },
  {
   "cell_type": "code",
   "execution_count": null,
   "id": "ff475df4-e2b9-48d1-b2c9-d847a20a90fa",
   "metadata": {
    "scrolled": true
   },
   "outputs": [],
   "source": [
    "# Loop through each file and extract likely electrodes and their ROI\n",
    "for i, file_path in enumerate(anat_file_paths):\n",
    "    # Extract base_name from the file_path  \n",
    "    base_name = os.path.basename(file_path).split('_STG_MTG_AnatomicalRegions.txt')[0]  \n",
    "    print(f\"Processing:\\t{base_name}\")  \n",
    "  \n",
    "    # Call the get_likely_contacts function to extract ROI contacts  \n",
    "    roi_dict_tmp = get_likely_contacts(file_path, roi_dict, min_probability=70)  \n",
    "  \n",
    "    # Save the extracted data to an excel file  \n",
    "    save_to_excel(base_name, roi_dict_tmp, df, i, save_path)  "
   ]
  },
  {
   "cell_type": "code",
   "execution_count": null,
   "id": "fc3a4ec4-db48-416f-80e8-6ad101a275cd",
   "metadata": {},
   "outputs": [],
   "source": []
  }
 ],
 "metadata": {
  "kernelspec": {
   "display_name": "mne",
   "language": "python",
   "name": "mne"
  },
  "language_info": {
   "codemirror_mode": {
    "name": "ipython",
    "version": 3
   },
   "file_extension": ".py",
   "mimetype": "text/x-python",
   "name": "python",
   "nbconvert_exporter": "python",
   "pygments_lexer": "ipython3",
   "version": "3.11.4"
  }
 },
 "nbformat": 4,
 "nbformat_minor": 5
}
