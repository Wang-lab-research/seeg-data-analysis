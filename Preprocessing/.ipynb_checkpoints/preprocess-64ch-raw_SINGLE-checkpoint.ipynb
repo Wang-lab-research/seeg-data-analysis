{
 "cells": [
  {
   "cell_type": "markdown",
   "id": "de2b9af6-5e16-4fcf-8d14-dd1790514ff2",
   "metadata": {
    "tags": []
   },
   "source": [
    "# Preprocess raw EDF data to filtered FIF format"
   ]
  },
  {
   "cell_type": "markdown",
   "id": "aa0c9471-77e3-4869-83bd-510bd47a3562",
   "metadata": {},
   "source": [
    "Define event names in a dictionary"
   ]
  },
  {
   "cell_type": "code",
   "execution_count": 1,
   "id": "bff087f4",
   "metadata": {
    "tags": []
   },
   "outputs": [],
   "source": [
    "import sys\n",
    "import os\n",
    "import numpy as np\n",
    "import mne\n",
    "import matplotlib.pyplot as plt\n",
    "\n",
    "from mne.preprocessing import ICA\n",
    "from pyprep.find_noisy_channels import NoisyChannels\n",
    "\n",
    "from IPython import display\n",
    "\n",
    "import eeglabio"
   ]
  },
  {
   "cell_type": "markdown",
   "id": "755165ef-88e5-48af-a904-12fd33e9c65d",
   "metadata": {},
   "source": [
    "Find EDF file based on subject number and load using MNE"
   ]
  },
  {
   "cell_type": "code",
   "execution_count": 2,
   "id": "bb67bda3-66d1-434b-9e59-b85c00b6d250",
   "metadata": {},
   "outputs": [],
   "source": [
    "data_dir =\"../../Data/EEG DATA/\"\n",
    "save_dir =\"../../Data/Processed Data/\""
   ]
  },
  {
   "cell_type": "code",
   "execution_count": 3,
   "id": "99e5d0f9-0944-44fa-8612-f4ca3a9a543b",
   "metadata": {},
   "outputs": [],
   "source": [
    "sub_num = 'C27' # Set this at the start for each subject name"
   ]
  },
  {
   "cell_type": "code",
   "execution_count": 16,
   "id": "dd571513-5eac-4be2-8e19-2e619f900244",
   "metadata": {
    "tags": []
   },
   "outputs": [
    {
     "name": "stdout",
     "output_type": "stream",
     "text": [
      "['Fp1', 'Fpz', 'Fp2', 'AF3', 'AF4', 'F11', 'F7', 'F5', 'F3', 'F1', 'Fz', 'F2', 'F4', 'F6', 'F8', 'F12', 'FT11', 'FC5', 'FC3', 'FC1', 'FCz', 'FC2', 'FC4', 'FC6', 'FT12', 'T7', 'C5', 'C3', 'C1', 'Cz', 'C2', 'C4', 'C6', 'T8', 'TP7', 'CP5', 'CP3', 'CP1', 'CPz', 'CP2', 'CP4', 'CP6', 'TP8', 'M1', 'M2', 'P7', 'P5', 'P3', 'P1', 'Pz', 'P2', 'P4', 'P6', 'P8', 'PO7', 'PO3', 'POz', 'PO4', 'PO8', 'O1', 'Oz', 'O2', 'Cb1', 'Cb2']\n",
      "\n",
      "Number of remaining channels:  64\n",
      "\n",
      "Dropped channels:  []\n",
      "Raw data preprocessing complete.\n"
     ]
    }
   ],
   "source": [
    "sub_id=''; acq_id=''\n",
    "for folder in os.listdir(data_dir):\n",
    "    save_fname_fif = sub_num[:3] + '_preprocessed-raw.fif'\n",
    "    if folder.startswith(sub_num) and save_fname_fif not in os.listdir(save_dir):\n",
    "        sub_id=folder\n",
    "        print(sub_id)\n",
    "        print(save_fname_fif)\n",
    "\n",
    "for subfile in os.listdir(os.path.join(data_dir,sub_id)):\n",
    "    if not subfile.endswith(\".edf\"):\n",
    "        continue\n",
    "    else:\n",
    "        acq_id = subfile;\n",
    "\n",
    "# read data, set EOG channel, and drop unused channels\n",
    "print(f\"{sub_id}\\nreading raw file...\")\n",
    "eeg_data_raw_file = os.path.join(data_dir,sub_id,acq_id)\n",
    "\n",
    "raw = mne.io.read_raw_edf(eeg_data_raw_file)\n",
    "\n",
    "wrong_64_mtg_flag = 0\n",
    "if \"FT7\" in raw.ch_names:\n",
    "    wrong_64_mtg_flag = 1\n",
    "    eog_adj = 4\n",
    "else:\n",
    "    eog_adj = 5\n",
    "\n",
    "Fp1_eog_flag = 0\n",
    "if \"VEO\" in raw.ch_names:\n",
    "    del raw\n",
    "    raw = mne.io.read_raw_edf(eeg_data_raw_file, eog=[\"VEO\"], preload=True)\n",
    "elif \"VEOG\" in raw.ch_names:\n",
    "    del raw\n",
    "    raw = mne.io.read_raw_edf(eeg_data_raw_file, eog=[\"VEOG\"], preload=True)\n",
    "elif \"X\" in raw.ch_names:\n",
    "    Fp1_eog_flag = 1\n",
    "    del raw\n",
    "    raw = mne.io.read_raw_edf(eeg_data_raw_file, eog=[\"Fp1\"], preload=True)\n",
    "\n",
    "# display.clear_output(wait=True)\n",
    "\n",
    "# high level inspection\n",
    "print(raw.ch_names)\n",
    "print(len(raw.ch_names))\n",
    "\n",
    "# drop non EEG channels\n",
    "if \"HEOG\" in raw.ch_names:\n",
    "    non_eeg_chs = ['HEOG', 'EKG', 'EMG', 'Trigger']\n",
    "elif \"HEO\" in raw.ch_names:\n",
    "    non_eeg_chs = ['HEO', 'EKG', 'EMG', 'Trigger']\n",
    "elif \"X\" in raw.ch_names and \"Oth4\" in raw.ch_names:\n",
    "    non_eeg_chs = ['X', 'Y', 'Z', 'Oth4']\n",
    "elif \"X\" in raw.ch_names:\n",
    "    non_eeg_chs = ['X', 'Y', 'Z']\n",
    "elif \"EEG66\" in raw.ch_names:\n",
    "    non_eeg_chs = ['EEG66','EEG67','EEG68','EEG69']\n",
    "raw.drop_channels(non_eeg_chs)\n",
    "\n",
    "# make adjustment for wrong montage subjects\n",
    "if wrong_64_mtg_flag:\n",
    "    raw.drop_channels(['FT7','FT8','PO5','PO6']) # for C24, 055, 056, 047\n",
    "\n",
    "print(raw.ch_names)\n",
    "print(len(raw.ch_names))\n",
    "\n",
    "# load electrode locations \n",
    "print(f\"{sub_id}\\nsetting custom montage...\")\n",
    "if wrong_64_mtg_flag:\n",
    "    custom_montage = mne.channels.read_custom_montage('../Misc/Montage/Hydro_Neo_Net_64_xyz_cms_No_FID_Caps.sfp') \n",
    "else:\n",
    "    custom_montage = mne.channels.read_custom_montage('../Misc/Montage/Hydro_Neo_Net_64_xyz_cms_No_FID.sfp') \n",
    "raw.set_montage(custom_montage)\n",
    "# display.clear_output(wait=True)\n",
    "\n",
    "# apply notch filter\n",
    "print(f\"{sub_id}\\napplying notch filter...\")\n",
    "raw = raw.notch_filter(60., notch_widths=10)\n",
    "display.clear_output(wait=True)\n",
    "\n",
    "# apply bandpass filter\n",
    "print(f\"{sub_id}\\napplying bandpass filter...\")\n",
    "raw = raw.filter(l_freq=1., h_freq=100.)\n",
    "display.clear_output(wait=True)\n",
    "\n",
    "# resample data to decrease file size\n",
    "resample_freq = 400\n",
    "print(f\"{sub_id}\\nresampling data from {raw.info['sfreq']} Hz to {resample_freq} Hz...\")\n",
    "raw.resample(resample_freq, npad='auto')\n",
    "display.clear_output(wait=True)\n",
    "\n",
    "# find bad channels automatically\n",
    "print(f\"{sub_id}\\nremoving bad channels...\")\n",
    "raw_pyprep = NoisyChannels(raw, random_state=42)\n",
    "raw_pyprep.find_all_bads(ransac=True, channel_wise=False, max_chunk_size=None)\n",
    "raw.info['bads'] = raw_pyprep.get_bads()\n",
    "raw.interpolate_bads(reset_bads=True)\n",
    "display.clear_output(wait=True)\n",
    "\n",
    "# re-reference channels\n",
    "print(f\"{sub_id}\\nre-referencing channels to average...\")\n",
    "raw, _ = mne.set_eeg_reference(raw, ref_channels='average', copy=True)\n",
    "display.clear_output(wait=True)\n",
    "\n",
    "# fit ICA \n",
    "print(f\"{sub_id}\\nfitting ICA...\")\n",
    "num_goods = len(raw.ch_names) - len(raw.info['bads']) - 1 # adjust for EOG\n",
    "ica = ICA(n_components=int(np.floor(num_goods/2)), random_state=42, max_iter='auto')\n",
    "ica.fit(raw)\n",
    "display.clear_output(wait=True)\n",
    "\n",
    "# find EOG artifacts\n",
    "print(f\"{sub_id}\\nfinding EOG artifacts...\")\n",
    "\n",
    "# ica.find_bads_eog is BROKEN. alt: exclude first two components\n",
    "# eog_indices, eog_scores = ica.find_bads_eog(raw,\n",
    "#                                             threshold='auto')\n",
    "# ica.exclude = eog_indices\n",
    "ica.exclude = [0,1]\n",
    "\n",
    "display.clear_output(wait=True)\n",
    "\n",
    "# apply ICA\n",
    "print(f\"{sub_id}\\napplying ICA...\")\n",
    "ica.apply(raw)\n",
    "display.clear_output(wait=True)\n",
    "\n",
    "# save copy of data\n",
    "print(f\"Saving processed data as '{save_fname_fif}'...\")\n",
    "\n",
    "if \"VEO\" in raw.ch_names:\n",
    "    raw.drop_channels(\"VEO\")\n",
    "elif \"VEOG\" in raw.ch_names:\n",
    "    raw.drop_channels(\"VEOG\")\n",
    "elif Fp1_eog_flag:\n",
    "    raw.set_channel_types({'Fp1': 'eeg'})\n",
    "\n",
    "# set_dir = '../../SET Data/'\n",
    "raw.save(save_dir+save_fname_fif, \n",
    "         verbose=True, overwrite=True)\n",
    "# mne.export.export_raw(set_dir+save_fname_fif[:-4]+'.set', \n",
    "#                       raw, overwrite=True, verbose=True)\n",
    "display.clear_output(wait=True)\n",
    "\n",
    "# high level inspection\n",
    "print(raw.ch_names)\n",
    "print('\\nNumber of remaining channels: ',len(raw.ch_names) - len(raw.info['bads']))\n",
    "print('\\nDropped channels: ',raw.info['bads'])\n",
    "\n",
    "print(\"Raw data preprocessing complete.\")\n",
    "\n",
    "display.clear_output(wait=True)"
   ]
  },
  {
   "cell_type": "code",
   "execution_count": null,
   "id": "edf417e5-7cf2-4203-a91c-201acb767857",
   "metadata": {},
   "outputs": [],
   "source": [
    "# high level inspection\n",
    "print(raw.ch_names)\n",
    "print('\\nNumber of remaining channels: ',len(raw.ch_names) - len(raw.info['bads']))\n",
    "print('\\nDropped channels: ',raw.info['bads'])\n",
    "\n",
    "print(\"Raw data preprocessing complete.\")\n",
    "\n",
    "display.clear_output(wait=True)"
   ]
  },
  {
   "cell_type": "code",
   "execution_count": null,
   "id": "44c6c36d-a0b3-482a-88f4-8a975ed78f0f",
   "metadata": {},
   "outputs": [],
   "source": []
  }
 ],
 "metadata": {
  "kernelspec": {
   "display_name": "eegenv",
   "language": "python",
   "name": "eegenv"
  },
  "language_info": {
   "codemirror_mode": {
    "name": "ipython",
    "version": 3
   },
   "file_extension": ".py",
   "mimetype": "text/x-python",
   "name": "python",
   "nbconvert_exporter": "python",
   "pygments_lexer": "ipython3",
   "version": "3.9.16"
  }
 },
 "nbformat": 4,
 "nbformat_minor": 5
}
